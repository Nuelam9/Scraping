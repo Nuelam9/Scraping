{
 "cells": [
  {
   "cell_type": "code",
   "execution_count": 1,
   "metadata": {},
   "outputs": [],
   "source": [
    "import json\n",
    "import requests\n",
    "from bs4 import BeautifulSoup\n",
    "import matplotlib.pyplot as plt"
   ]
  },
  {
   "cell_type": "code",
   "execution_count": 2,
   "metadata": {},
   "outputs": [],
   "source": [
    "# Nicehash (btc)\n",
    "x_init_nh = 8.901e-4\n",
    "r_nh_day= 1.547e-5\n",
    "\n",
    "# Brave (bat)\n",
    "# 3.5 bat: Francesca, 3.5 bat: Manuel (cellulare), 2 bat Manuel (pc), 1 bat (Loredana, Angela, Pedro)\n",
    "x_init_br = 2.80 + 2.5 + 4.5\n",
    "r_br_month = 10.\n",
    "\n",
    "# Coinbase (usd coin)\n",
    "x = 108.4 + 60.6\n",
    "\n",
    "init = {'NH': x_init_nh, 'BR': x_init_br}\n",
    "r = {'NH': r_nh_day * 30, 'BR': r_br_month}"
   ]
  },
  {
   "cell_type": "code",
   "execution_count": 3,
   "metadata": {},
   "outputs": [
    {
     "name": "stdout",
     "output_type": "stream",
     "text": [
      "BTCUSDT price is 47241.30000000\n",
      "BATUSDT price is 0.92760000\n"
     ]
    }
   ],
   "source": [
    "# Defining Binance API URL\n",
    "key = \"https://api.binance.com/api/v3/ticker/price?symbol=\"\n",
    "  \n",
    "# Making list for multiple crypto's\n",
    "currencies = [\"BTCUSDT\", \"BATUSDT\"]\n",
    "\n",
    "conversions = {}\n",
    "# running loop to print all crypto prices\n",
    "for curr in currencies:\n",
    "    # completing API for request\n",
    "    url = key + curr\n",
    "    data = requests.get(url)\n",
    "    data = data.json()\n",
    "    if curr == 'BTCUSDT':\n",
    "        conversions['NH'] = float(data['price'])\n",
    "    else:\n",
    "        conversions['BR'] = float(data['price'])\n",
    "    print(f\"{data['symbol']} price is {data['price']}\")"
   ]
  },
  {
   "cell_type": "code",
   "execution_count": 13,
   "metadata": {},
   "outputs": [
    {
     "name": "stdout",
     "output_type": "stream",
     "text": [
      "USDT to EUR: €0.9\n"
     ]
    }
   ],
   "source": [
    "URL = \"https://coinmarketcap.com/it/currencies/tether/\"\n",
    "page = requests.get(URL)\n",
    "soup = BeautifulSoup(page.content, \"html.parser\")\n",
    "\n",
    "results = soup.find(id=\"__next\")\n",
    "price_els = results.find_all(\"div\", class_=\"priceValue\")\n",
    "# [<div class=\"priceValue\"><span>€0.9016</span></div>]\n",
    "USDT_EUR = float(price_els[0].text.split('€')[-1])\n",
    "\n",
    "print(f'USDT to EUR: €{round(USDT_EUR, 2)}')"
   ]
  },
  {
   "cell_type": "code",
   "execution_count": 5,
   "metadata": {},
   "outputs": [
    {
     "name": "stdout",
     "output_type": "stream",
     "text": [
      "Earnings of 1 months: €28.13\n"
     ]
    }
   ],
   "source": [
    "def earnings(n_months):\n",
    "    s = 0\n",
    "    for key in r.keys():\n",
    "        s += n_months * r[key] * conversions[key]\n",
    "    return s\n",
    "\n",
    "n = 1\n",
    "print(f'Earnings of {n} months: €{round(earnings(1) * USDT_EUR, 2)}') "
   ]
  },
  {
   "cell_type": "code",
   "execution_count": 11,
   "metadata": {},
   "outputs": [
    {
     "name": "stdout",
     "output_type": "stream",
     "text": [
      "Initial earn: €198.5\n"
     ]
    }
   ],
   "source": [
    "s = 0\n",
    "for key in init.keys():\n",
    "    s += init[key] * conversions[key]\n",
    "    \n",
    "x_in = (x + s) * USDT_EUR \n",
    "\n",
    "print(f'Initial earn: €{round(x_in, 2)}')"
   ]
  },
  {
   "cell_type": "code",
   "execution_count": 12,
   "metadata": {},
   "outputs": [
    {
     "data": {
      "image/png": "[encoded data removed]",
      "text/plain": [
       "<Figure size 720x576 with 1 Axes>"
      ]
     },
     "metadata": {
      "needs_background": "light"
     },
     "output_type": "display_data"
    }
   ],
   "source": [
    "plt.figure(figsize=(10, 8))\n",
    "plt.plot(range(1, 13), [x_in + earnings(i) * USDT_EUR for i in range(1, 13)], 'b.-')\n",
    "plt.xlabel('n_months')\n",
    "plt.ylabel('Earnings (€)')\n",
    "plt.title(\"Cumulative monthly earnings\");"
   ]
  },
  {
   "cell_type": "code",
   "execution_count": null,
   "metadata": {},
   "outputs": [],
   "source": []
  }
 ],
 "metadata": {
  "kernelspec": {
   "display_name": "Python 3",
   "language": "python",
   "name": "python3"
  },
  "language_info": {
   "codemirror_mode": {
    "name": "ipython",
    "version": 3
   },
   "file_extension": ".py",
   "mimetype": "text/x-python",
   "name": "python",
   "nbconvert_exporter": "python",
   "pygments_lexer": "ipython3",
   "version": "3.8.2"
  }
 },
 "nbformat": 4,
 "nbformat_minor": 4
}
