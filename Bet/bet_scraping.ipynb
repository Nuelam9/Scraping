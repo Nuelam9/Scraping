{
 "cells": [
  {
   "cell_type": "code",
   "execution_count": 1,
   "metadata": {},
   "outputs": [],
   "source": [
    "# https://stackoverflow.com/questions/40555930/selenium-chromedriver-executable-needs-to-be-in-path\n",
    "# find_elements: https://stackoverflow.com/questions/43355469/why-use-find-elementby-instead-of-find-element-by\n",
    "# selium doc: https://selenium-python.readthedocs.io/locating-elements.html#\n",
    "import selenium"
   ]
  },
  {
   "cell_type": "code",
   "execution_count": 2,
   "metadata": {},
   "outputs": [
    {
     "data": {
      "text/plain": [
       "'4.0.0'"
      ]
     },
     "execution_count": 2,
     "metadata": {},
     "output_type": "execute_result"
    }
   ],
   "source": [
    "selenium.__version__"
   ]
  },
  {
   "cell_type": "code",
   "execution_count": 17,
   "metadata": {},
   "outputs": [],
   "source": [
    "from selenium import webdriver\n",
    "from selenium.webdriver.chrome.service import Service\n",
    "from selenium.webdriver.chrome.options import Options\n",
    "from selenium.webdriver.common.by import By\n",
    "import time as t"
   ]
  },
  {
   "cell_type": "code",
   "execution_count": 18,
   "metadata": {},
   "outputs": [],
   "source": [
    "path_driver = './chromedriver.exe'\n",
    "url_profit = 'https://www.betexplorer.com/soccer/italy/serie-a-2020-2021/atalanta-ac-milan/zTgyEAHp/'\n",
    "\n",
    "class1 = \"wrap-header\"\n",
    "class2 = \"list-tabs__item__in current\"\n",
    "class3 = \"odds-content\"\n",
    "class4 = \"odd\" \n",
    "\n",
    "options = Options()\n",
    "options.headless = True\n",
    "options.add_argument(\"--window-size=1920, 1200\")\n",
    "options.add_argument(\"user-agent=whatever you want\")\n",
    "service = Service(path_driver)\n",
    "driver = webdriver.Chrome(options=options, service=service)\n",
    "driver.get(url_profit)\n",
    "#t.sleep(10)\n",
    "\n",
    "objects = driver.find_elements(By.CLASS_NAME, class4)"
   ]
  },
  {
   "cell_type": "code",
   "execution_count": 24,
   "id": "6c3e2c82",
   "metadata": {},
   "outputs": [
    {
     "data": {
      "text/plain": [
       "['Pinnacle', '2.41 4.02 2.80']"
      ]
     },
     "execution_count": 24,
     "metadata": {},
     "output_type": "execute_result"
    }
   ],
   "source": [
    "ind = [i for i in range(len(objects)) \\\n",
    "       if objects[i].text.split('\\n')[0] == 'Pinnacle'][0]\n",
    "a = objects[ind].text\n",
    "a.split('\\n')"
   ]
  }
 ],
 "metadata": {
  "interpreter": {
   "hash": "de072921dc87486613898b1ef56959cc98c50a630fb49de1898fb32d92a683cf"
  },
  "kernelspec": {
   "display_name": "Python 3.9.5 64-bit",
   "name": "python3"
  },
  "language_info": {
   "codemirror_mode": {
    "name": "ipython",
    "version": 3
   },
   "file_extension": ".py",
   "mimetype": "text/x-python",
   "name": "python",
   "nbconvert_exporter": "python",
   "pygments_lexer": "ipython3",
   "version": "3.9.5"
  }
 },
 "nbformat": 4,
 "nbformat_minor": 5
}
