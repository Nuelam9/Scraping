{
 "cells": [
  {
   "cell_type": "code",
   "execution_count": 1,
   "id": "432e4d9f",
   "metadata": {},
   "outputs": [],
   "source": [
    "# https://stackoverflow.com/questions/40555930/selenium-chromedriver-executable-needs-to-be-in-path\n",
    "import selenium"
   ]
  },
  {
   "cell_type": "code",
   "execution_count": 2,
   "id": "2aad41ad",
   "metadata": {},
   "outputs": [
    {
     "data": {
      "text/plain": [
       "'3.141.0'"
      ]
     },
     "execution_count": 2,
     "metadata": {},
     "output_type": "execute_result"
    }
   ],
   "source": [
    "selenium.__version__"
   ]
  },
  {
   "cell_type": "code",
   "execution_count": 3,
   "id": "685b8cb0",
   "metadata": {},
   "outputs": [],
   "source": [
    "from selenium import webdriver\n",
    "from selenium.webdriver.chrome.options import Options\n",
    "from typing import List\n",
    "import time as t"
   ]
  },
  {
   "cell_type": "code",
   "execution_count": 4,
   "id": "4ed34daa",
   "metadata": {},
   "outputs": [],
   "source": [
    "drive_type = selenium.webdriver.chrome.webdriver.WebDriver\n",
    "\n",
    "class Profitability_calculator:\n",
    "    def __init__(self, driver_path: str, url_to_profit: str, time_range: List[str]):\n",
    "        self.url_profit = url_to_profit\n",
    "        self.path_driver = driver_path\n",
    "        self.time_range = time_range\n",
    "    \n",
    "    @property\n",
    "    def driver(self):\n",
    "        options = Options()\n",
    "        options.headless = True\n",
    "        options.add_argument(\"--window-size=1920, 1200\")\n",
    "        options.add_argument(\"user-agent=whatever you want\")\n",
    "        driver = webdriver.Chrome(options=options, executable_path=self.path_driver)\n",
    "        # Browse the profitability calculator of nicehash\n",
    "        driver.get(self.url_profit)\n",
    "        t.sleep(10)\n",
    "        # Gets the page's title and the current url\n",
    "        print(f'{driver.title}, {driver.current_url}\\n')\n",
    "        return driver\n",
    "        \n",
    "    def get_button(self, driver: drive_type, time: str):\n",
    "        \"\"\"\n",
    "        time:: ['1D', '1W', '1M']\n",
    "        \"\"\"\n",
    "        objects = driver.find_elements_by_class_name('filter')\n",
    "        button = [obj for obj in objects if obj.text == time][0]\n",
    "        return button\n",
    "    \n",
    "    def get_profit_values(self, driver: drive_type):\n",
    "        objects = driver.find_elements_by_class_name('value')\n",
    "        obj = objects[0]\n",
    "        return obj.text \n",
    "\n",
    "    def get_results(self):\n",
    "        driver = self.driver\n",
    "        for time in self.time_range:\n",
    "            button = self.get_button(driver, time)\n",
    "            button.click()\n",
    "            profit = self.get_profit_values(driver)\n",
    "            print_text = 'AVG. PROFITABILITY FOR SELECTED TIME RANGE'\n",
    "            print(f'\\033[1m{print_text} ({time})  \\033[0m')\n",
    "            print(f'{profit}\\n')"
   ]
  },
  {
   "cell_type": "code",
   "execution_count": 5,
   "id": "db6342cd",
   "metadata": {},
   "outputs": [
    {
     "name": "stdout",
     "output_type": "stream",
     "text": [
      "NVIDIA GTX 1650 SUPER | NiceHash, https://www.nicehash.com/profitability-calculator/nvidia-gtx-1650-super\n",
      "\n",
      "\u001b[1mAVG. PROFITABILITY FOR SELECTED TIME RANGE (1D)  \u001b[0m\n",
      "0.00002353 BTC/24h\n",
      "\n",
      "\u001b[1mAVG. PROFITABILITY FOR SELECTED TIME RANGE (1W)  \u001b[0m\n",
      "0.00002531 BTC/24h\n",
      "\n",
      "\u001b[1mAVG. PROFITABILITY FOR SELECTED TIME RANGE (1M)  \u001b[0m\n",
      "0.00002837 BTC/24h\n",
      "\n",
      "Wall time: 13.2 s\n"
     ]
    }
   ],
   "source": [
    "%%time\n",
    "\n",
    "DRIVER_PATH = './chromedriver.exe'\n",
    "url_profit = 'https://www.nicehash.com/profitability-calculator/nvidia-gtx-1650-super'\n",
    "time_range = ['1D', '1W', '1M']\n",
    "\n",
    "Profit_calculator = Profitability_calculator(DRIVER_PATH, url_profit, time_range)\n",
    "Profit_calculator.get_results()"
   ]
  }
 ],
 "metadata": {
  "kernelspec": {
   "display_name": "Python 3 (ipykernel)",
   "language": "python",
   "name": "python3"
  },
  "language_info": {
   "codemirror_mode": {
    "name": "ipython",
    "version": 3
   },
   "file_extension": ".py",
   "mimetype": "text/x-python",
   "name": "python",
   "nbconvert_exporter": "python",
   "pygments_lexer": "ipython3",
   "version": "3.9.5"
  }
 },
 "nbformat": 4,
 "nbformat_minor": 5
}
