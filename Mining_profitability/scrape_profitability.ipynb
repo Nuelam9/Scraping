{
 "cells": [
  {
   "cell_type": "code",
   "execution_count": 2,
   "metadata": {},
   "outputs": [],
   "source": [
    "# https://stackoverflow.com/questions/40555930/selenium-chromedriver-executable-needs-to-be-in-path\n",
    "import selenium"
   ]
  },
  {
   "cell_type": "code",
   "execution_count": 3,
   "metadata": {},
   "outputs": [
    {
     "data": {
      "text/plain": [
       "'4.6.1'"
      ]
     },
     "execution_count": 3,
     "metadata": {},
     "output_type": "execute_result"
    }
   ],
   "source": [
    "selenium.__version__"
   ]
  },
  {
   "cell_type": "code",
   "execution_count": 4,
   "metadata": {},
   "outputs": [],
   "source": [
    "from selenium import webdriver\n",
    "from selenium.webdriver.chrome.options import Options\n",
    "from selenium.webdriver.common.by import By\n",
    "from typing import List\n",
    "import time as t\n",
    "from dataclasses import dataclass"
   ]
  },
  {
   "cell_type": "code",
   "execution_count": 7,
   "id": "bd23f2f1",
   "metadata": {},
   "outputs": [],
   "source": [
    "drive_type = selenium.webdriver.chrome.webdriver.WebDriver\n",
    "\n",
    "@dataclass\n",
    "class Profitability_calculator:\n",
    "    driver_path: str\n",
    "    url_profit: str\n",
    "    time_range: List[str]\n",
    "    \n",
    "    @property\n",
    "    def driver(self):\n",
    "        options = Options()\n",
    "        options.headless = True\n",
    "        options.add_argument(\"--window-size=1920, 1200\")\n",
    "        options.add_argument(\"user-agent=whatever you want\")\n",
    "        driver = webdriver.Chrome(options=options, executable_path=self.driver_path)\n",
    "        # Browse the profitability calculator of nicehash\n",
    "        driver.get(self.url_profit)\n",
    "        t.sleep(10)\n",
    "        # Gets the page's title and the current url\n",
    "        print(f'{driver.title}, {driver.current_url}\\n')\n",
    "        return driver\n",
    "        \n",
    "    def get_button(self, driver: drive_type, time: str):\n",
    "        \"\"\"\n",
    "        time:: ['1D', '1W', '1M']\n",
    "        \"\"\"\n",
    "        objects = driver.find_elements(By.CLASS_NAME, \"filter\")\n",
    "        return [obj for obj in objects if obj.text == time][0]\n",
    "    \n",
    "    def get_profit_values(self, driver: drive_type):\n",
    "        objects = driver.find_elements(By.CLASS_NAME, \"value\")\n",
    "        obj = objects[0]\n",
    "        return obj.text \n",
    "\n",
    "    def get_results(self):\n",
    "        driver = self.driver\n",
    "        for time in self.time_range:\n",
    "            button = self.get_button(driver, time)\n",
    "            button.click()\n",
    "            profit = self.get_profit_values(driver)\n",
    "            print_text = 'AVG. PROFITABILITY FOR SELECTED TIME RANGE'\n",
    "            print(f'\\033[1m{print_text} ({time})  \\033[0m')\n",
    "            print(f'{profit}\\n')"
   ]
  },
  {
   "cell_type": "code",
   "execution_count": 8,
   "metadata": {},
   "outputs": [
    {
     "name": "stderr",
     "output_type": "stream",
     "text": [
      "C:\\Users\\manue\\AppData\\Local\\Temp\\ipykernel_26784\\848783865.py:17: DeprecationWarning: executable_path has been deprecated, please pass in a Service object\n",
      "  driver = webdriver.Chrome(options=options, executable_path=self.driver_path)\n"
     ]
    },
    {
     "name": "stdout",
     "output_type": "stream",
     "text": [
      "NVIDIA GTX 1650 SUPER profitability | NiceHash, https://www.nicehash.com/profitability-calculator/nvidia-gtx-1650-super\n",
      "\n",
      "\u001b[1mAVG. PROFITABILITY FOR SELECTED TIME RANGE (1D)  \u001b[0m\n",
      "0.00000730 BTC/24h\n",
      "\n",
      "\u001b[1mAVG. PROFITABILITY FOR SELECTED TIME RANGE (1W)  \u001b[0m\n",
      "0.00000616 BTC/24h\n",
      "\n",
      "\u001b[1mAVG. PROFITABILITY FOR SELECTED TIME RANGE (1M)  \u001b[0m\n",
      "0.00000532 BTC/24h\n",
      "\n",
      "CPU times: total: 46.9 ms\n",
      "Wall time: 18.7 s\n"
     ]
    }
   ],
   "source": [
    "%%time\n",
    "\n",
    "DRIVER_PATH = './chromedriver.exe'\n",
    "url_profit = 'https://www.nicehash.com/profitability-calculator/nvidia-gtx-1650-super'\n",
    "time_range = ['1D', '1W', '1M']\n",
    "\n",
    "Profit_calculator = Profitability_calculator(DRIVER_PATH, url_profit, time_range)\n",
    "Profit_calculator.get_results()"
   ]
  }
 ],
 "metadata": {
  "kernelspec": {
   "display_name": "Python 3.10.8 64-bit",
   "language": "python",
   "name": "python3"
  },
  "language_info": {
   "codemirror_mode": {
    "name": "ipython",
    "version": 3
   },
   "file_extension": ".py",
   "mimetype": "text/x-python",
   "name": "python",
   "nbconvert_exporter": "python",
   "pygments_lexer": "ipython3",
   "version": "3.10.8"
  },
  "vscode": {
   "interpreter": {
    "hash": "e51fdbc37c5adaa12a9ed97b50fdaf0ff46be7ee1a114cc405b6eaf0c36d1bf8"
   }
  }
 },
 "nbformat": 4,
 "nbformat_minor": 5
}
