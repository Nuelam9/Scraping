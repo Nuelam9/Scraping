{
 "cells": [
  {
   "cell_type": "code",
   "execution_count": 1,
   "metadata": {},
   "outputs": [
    {
     "ename": "ModuleNotFoundError",
     "evalue": "No module named 'selenium'",
     "output_type": "error",
     "traceback": [
      "\u001b[1;31m---------------------------------------------------------------------------\u001b[0m",
      "\u001b[1;31mModuleNotFoundError\u001b[0m                       Traceback (most recent call last)",
      "\u001b[1;32m<ipython-input-1-1305ad5d0f2e>\u001b[0m in \u001b[0;36m<module>\u001b[1;34m\u001b[0m\n\u001b[0;32m      1\u001b[0m \u001b[1;31m# https://stackoverflow.com/questions/40555930/selenium-chromedriver-executable-needs-to-be-in-path\u001b[0m\u001b[1;33m\u001b[0m\u001b[1;33m\u001b[0m\u001b[1;33m\u001b[0m\u001b[0m\n\u001b[1;32m----> 2\u001b[1;33m \u001b[1;32mimport\u001b[0m \u001b[0mselenium\u001b[0m\u001b[1;33m\u001b[0m\u001b[1;33m\u001b[0m\u001b[0m\n\u001b[0m",
      "\u001b[1;31mModuleNotFoundError\u001b[0m: No module named 'selenium'"
     ]
    }
   ],
   "source": [
    "# https://stackoverflow.com/questions/40555930/selenium-chromedriver-executable-needs-to-be-in-path\n",
    "import selenium"
   ]
  },
  {
   "cell_type": "code",
   "execution_count": 8,
   "metadata": {},
   "outputs": [
    {
     "data": {
      "text/plain": [
       "'4.0.0'"
      ]
     },
     "execution_count": 8,
     "metadata": {},
     "output_type": "execute_result"
    }
   ],
   "source": [
    "selenium.__version__"
   ]
  },
  {
   "cell_type": "code",
   "execution_count": 19,
   "metadata": {},
   "outputs": [],
   "source": [
    "from selenium import webdriver\n",
    "from selenium.webdriver.chrome.options import Options\n",
    "from typing import List\n",
    "import time as t"
   ]
  },
  {
   "cell_type": "code",
   "execution_count": 4,
   "metadata": {},
   "outputs": [],
   "source": [
    "drive_type = selenium.webdriver.chrome.webdriver.WebDriver\n",
    "\n",
    "class Profitability_calculator:\n",
    "    def __init__(self, driver_path: str, url_to_profit: str, time_range: List[str]):\n",
    "        self.url_profit = url_to_profit\n",
    "        self.path_driver = driver_path\n",
    "        self.time_range = time_range\n",
    "    \n",
    "    @property\n",
    "    def driver(self):\n",
    "        options = Options()\n",
    "        options.headless = True\n",
    "        options.add_argument(\"--window-size=1920, 1200\")\n",
    "        options.add_argument(\"user-agent=whatever you want\")\n",
    "        driver = webdriver.Chrome(options=options, executable_path=self.path_driver)\n",
    "        # Browse the profitability calculator of nicehash\n",
    "        driver.get(self.url_profit)\n",
    "        t.sleep(10)\n",
    "        # Gets the page's title and the current url\n",
    "        print(f'{driver.title}, {driver.current_url}\\n')\n",
    "        return driver\n",
    "        \n",
    "    def get_button(self, driver: drive_type, time: str):\n",
    "        \"\"\"\n",
    "        time:: ['1D', '1W', '1M']\n",
    "        \"\"\"\n",
    "        objects = driver.find_elements_by_class_name('filter')\n",
    "        button = [obj for obj in objects if obj.text == time][0]\n",
    "        return button\n",
    "    \n",
    "    def get_profit_values(self, driver: drive_type):\n",
    "        objects = driver.find_elements_by_class_name('value')\n",
    "        obj = objects[0]\n",
    "        return obj.text \n",
    "\n",
    "    def get_results(self):\n",
    "        driver = self.driver\n",
    "        for time in self.time_range:\n",
    "            button = self.get_button(driver, time)\n",
    "            button.click()\n",
    "            profit = self.get_profit_values(driver)\n",
    "            print_text = 'AVG. PROFITABILITY FOR SELECTED TIME RANGE'\n",
    "            print(f'\\033[1m{print_text} ({time})  \\033[0m')\n",
    "            print(f'{profit}\\n')"
   ]
  },
  {
   "cell_type": "code",
   "execution_count": 5,
   "metadata": {},
   "outputs": [
    {
     "name": "stdout",
     "output_type": "stream",
     "text": [
      "NVIDIA GTX 1650 SUPER | NiceHash, https://www.nicehash.com/profitability-calculator/nvidia-gtx-1650-super\n",
      "\n",
      "\u001b[1mAVG. PROFITABILITY FOR SELECTED TIME RANGE (1D)  \u001b[0m\n",
      "0.00002353 BTC/24h\n",
      "\n",
      "\u001b[1mAVG. PROFITABILITY FOR SELECTED TIME RANGE (1W)  \u001b[0m\n",
      "0.00002531 BTC/24h\n",
      "\n",
      "\u001b[1mAVG. PROFITABILITY FOR SELECTED TIME RANGE (1M)  \u001b[0m\n",
      "0.00002837 BTC/24h\n",
      "\n",
      "Wall time: 13.2 s\n"
     ]
    }
   ],
   "source": [
    "%%time\n",
    "\n",
    "DRIVER_PATH = './chromedriver.exe'\n",
    "url_profit = 'https://www.nicehash.com/profitability-calculator/nvidia-gtx-1650-super'\n",
    "time_range = ['1D', '1W', '1M']\n",
    "\n",
    "Profit_calculator = Profitability_calculator(DRIVER_PATH, url_profit, time_range)\n",
    "Profit_calculator.get_results()"
   ]
  }
 ],
 "metadata": {
  "interpreter": {
   "hash": "de072921dc87486613898b1ef56959cc98c50a630fb49de1898fb32d92a683cf"
  },
  "kernelspec": {
   "display_name": "Python 3",
   "language": "python",
   "name": "python3"
  },
  "language_info": {
   "codemirror_mode": {
    "name": "ipython",
    "version": 3
   },
   "file_extension": ".py",
   "mimetype": "text/x-python",
   "name": "python",
   "nbconvert_exporter": "python",
   "pygments_lexer": "ipython3",
   "version": "3.8.2"
  }
 },
 "nbformat": 4,
 "nbformat_minor": 5
}
