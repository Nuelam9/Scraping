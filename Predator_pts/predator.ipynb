{
 "cells": [
  {
   "cell_type": "code",
   "execution_count": 29,
   "metadata": {},
   "outputs": [],
   "source": [
    "import re\n",
    "import contextlib\n",
    "import requests\n",
    "from bs4 import BeautifulSoup"
   ]
  },
  {
   "cell_type": "code",
   "execution_count": 37,
   "metadata": {},
   "outputs": [],
   "source": [
    "def func(i):\n",
    "    \"\"\"\n",
    "    i = 3 :: return 300° predator\n",
    "    i = 8 :: return 750° predator\n",
    "    \"\"\"\n",
    "    assert i in [3, 8]\n",
    "\n",
    "    url = f\"https://apex.tracker.gg/apex/leaderboards/stats/origin/RankScore?page={i}\"\n",
    "    page = requests.get(url)\n",
    "    soup = BeautifulSoup(page.content, 'html.parser')  \n",
    "\n",
    "    if i == 3:\n",
    "        string = get_points(soup, 99, 'La top 300 è a ')\n",
    "    elif i == 8:\n",
    "        string = get_points(soup, 49, 'Il predator è a ')\n",
    "    return string\n",
    "\n",
    "\n",
    "def get_points(soup, position, position_text):\n",
    "    tmp = soup.find_all(class_='stat highlight')[position].text\n",
    "    player = soup.find_all(class_='trn-ign')[position].text.split()[0]\n",
    "    pred = float(tmp.split()[0].replace(',', ''))\n",
    "    return f'{position_text}{pred:.0f} punti ({player})'"
   ]
  },
  {
   "cell_type": "code",
   "execution_count": 3,
   "metadata": {},
   "outputs": [
    {
     "name": "stdout",
     "output_type": "stream",
     "text": [
      "La top 300 è a 28309 punti (shelby)\n"
     ]
    }
   ],
   "source": [
    "print(func(3))"
   ]
  },
  {
   "cell_type": "code",
   "execution_count": 4,
   "metadata": {},
   "outputs": [
    {
     "name": "stdout",
     "output_type": "stream",
     "text": [
      "Il predator è a 23195 punti (Superkitten2010)\n"
     ]
    }
   ],
   "source": [
    "print(func(8))"
   ]
  },
  {
   "cell_type": "code",
   "execution_count": 38,
   "metadata": {},
   "outputs": [],
   "source": [
    "def player_rank(player, i=10):\n",
    "    ind = None\n",
    "    while ind is None:\n",
    "        url = f\"https://apex.tracker.gg/apex/leaderboards/stats/origin/RankScore?page={i}\"\n",
    "        page = requests.get(url)\n",
    "        soup = BeautifulSoup(page.content, 'html.parser')\n",
    "        items = soup.find_all(class_='trn-ign')\n",
    "        names = []\n",
    "\n",
    "        for name in items:\n",
    "            with contextlib.suppress(Exception):\n",
    "                names.append(re.search('\\n    (.*)\\n', name.text).group(1))\n",
    "        try:\n",
    "            ind = names.index(player)\n",
    "        except Exception:\n",
    "            i -= 1\n",
    "    pos = soup.find_all(class_='rank')[ind].text\n",
    "    points = soup.find_all(class_='stat highlight')[0].text.split()[0].replace(',', '')\n",
    "    return f'{player} è {pos}-esimo con {points} punti'"
   ]
  },
  {
   "cell_type": "code",
   "execution_count": 39,
   "metadata": {},
   "outputs": [
    {
     "data": {
      "text/plain": [
       "'shelby è 302-esimo con 28317 punti'"
      ]
     },
     "execution_count": 39,
     "metadata": {},
     "output_type": "execute_result"
    }
   ],
   "source": [
    "player = 'shelby'\n",
    "player_rank(player)"
   ]
  }
 ],
 "metadata": {
  "kernelspec": {
   "display_name": "Python 3.10.8 64-bit",
   "language": "python",
   "name": "python3"
  },
  "language_info": {
   "codemirror_mode": {
    "name": "ipython",
    "version": 3
   },
   "file_extension": ".py",
   "mimetype": "text/x-python",
   "name": "python",
   "nbconvert_exporter": "python",
   "pygments_lexer": "ipython3",
   "version": "3.10.8"
  },
  "toc": {
   "base_numbering": 1,
   "nav_menu": {},
   "number_sections": true,
   "sideBar": true,
   "skip_h1_title": false,
   "title_cell": "Table of Contents",
   "title_sidebar": "Contents",
   "toc_cell": false,
   "toc_position": {},
   "toc_section_display": true,
   "toc_window_display": false
  },
  "vscode": {
   "interpreter": {
    "hash": "e51fdbc37c5adaa12a9ed97b50fdaf0ff46be7ee1a114cc405b6eaf0c36d1bf8"
   }
  }
 },
 "nbformat": 4,
 "nbformat_minor": 4
}
