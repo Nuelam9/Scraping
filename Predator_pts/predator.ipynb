{
 "cells": [
  {
   "cell_type": "code",
   "execution_count": 1,
   "metadata": {},
   "outputs": [],
   "source": [
    "import requests\n",
    "from bs4 import BeautifulSoup"
   ]
  },
  {
   "cell_type": "code",
   "execution_count": 2,
   "metadata": {},
   "outputs": [],
   "source": [
    "def func(i):\n",
    "    \"\"\"\n",
    "    i = 3 :: return 300° predator\n",
    "    i = 8 :: return 750° predator\n",
    "    \"\"\"\n",
    "    assert i in [3, 8]\n",
    "       \n",
    "    url = f\"https://apex.tracker.gg/apex/leaderboards/stats/origin/RankScore?page={i}\"\n",
    "    page = requests.get(url)\n",
    "    soup = BeautifulSoup(page.content, 'html.parser')  \n",
    "    \n",
    "    if i == 3:\n",
    "        tmp = soup.find_all(class_='stat highlight')[99].text\n",
    "        player = soup.find_all(class_='trn-ign')[99].text.split()[0]\n",
    "        pred = float(tmp.split()[0].replace(',', ''))\n",
    "        string = f'La top 300 è a {pred:.0f} punti ({player})'\n",
    "    elif i == 8:\n",
    "        tmp = soup.find_all(class_='stat highlight')[49].text\n",
    "        player = soup.find_all(class_='trn-ign')[49].text.split()[0]\n",
    "        pred = float(tmp.split()[0].replace(',', ''))\n",
    "        string = f'Il predator è a {pred:.0f} punti ({player})'\n",
    "    \n",
    "    return string"
   ]
  },
  {
   "cell_type": "code",
   "execution_count": 5,
   "metadata": {},
   "outputs": [
    {
     "name": "stdout",
     "output_type": "stream",
     "text": [
      "La top 300 è a 17552 punti (twitch_dooplex)\n"
     ]
    }
   ],
   "source": [
    "print(func(3))"
   ]
  },
  {
   "cell_type": "code",
   "execution_count": 6,
   "metadata": {},
   "outputs": [
    {
     "name": "stdout",
     "output_type": "stream",
     "text": [
      "Il predator è a 13995 punti (ZillachFNR)\n"
     ]
    }
   ],
   "source": [
    "print(func(8))"
   ]
  },
  {
   "cell_type": "code",
   "execution_count": 7,
   "metadata": {},
   "outputs": [],
   "source": [
    "def streami_rank(streami_name, i=10):\n",
    "    ind = None\n",
    "    while ind == None:\n",
    "        url = f\"https://apex.tracker.gg/apex/leaderboards/stats/origin/RankScore?page={i}\"\n",
    "        page = requests.get(url)\n",
    "        soup = BeautifulSoup(page.content, 'html.parser')\n",
    "        names = [name.text.split()[0] for name in soup.find_all(class_='trn-ign')]\n",
    "        try:\n",
    "            ind = names.index(streami_name)\n",
    "        except:\n",
    "            i -= 1\n",
    "    pos = soup.find_all(class_='rank')[ind].text\n",
    "    points = soup.find_all(class_='stat highlight')[0].text.split()[0].replace(',', '')\n",
    "    return f'Streami è {pos}-esimo con {points} punti'"
   ]
  },
  {
   "cell_type": "code",
   "execution_count": 8,
   "metadata": {},
   "outputs": [
    {
     "data": {
      "text/plain": [
       "'Streami è 479-esimo con 16652 punti'"
      ]
     },
     "execution_count": 8,
     "metadata": {},
     "output_type": "execute_result"
    }
   ],
   "source": [
    "streami = 'D1RF_Streamiii'\n",
    "streami_rank(streami)"
   ]
  },
  {
   "cell_type": "code",
   "execution_count": null,
   "metadata": {},
   "outputs": [],
   "source": []
  }
 ],
 "metadata": {
  "kernelspec": {
   "display_name": "Python 3",
   "language": "python",
   "name": "python3"
  },
  "language_info": {
   "codemirror_mode": {
    "name": "ipython",
    "version": 3
   },
   "file_extension": ".py",
   "mimetype": "text/x-python",
   "name": "python",
   "nbconvert_exporter": "python",
   "pygments_lexer": "ipython3",
   "version": "3.8.5"
  },
  "toc": {
   "base_numbering": 1,
   "nav_menu": {},
   "number_sections": true,
   "sideBar": true,
   "skip_h1_title": false,
   "title_cell": "Table of Contents",
   "title_sidebar": "Contents",
   "toc_cell": false,
   "toc_position": {},
   "toc_section_display": true,
   "toc_window_display": false
  }
 },
 "nbformat": 4,
 "nbformat_minor": 4
}
